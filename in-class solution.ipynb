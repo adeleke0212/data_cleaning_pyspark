{
 "cells": [
  {
   "cell_type": "markdown",
   "metadata": {},
   "source": [
    "## Create a Spark Connection"
   ]
  },
  {
   "cell_type": "code",
   "execution_count": 1,
   "metadata": {},
   "outputs": [
    {
     "name": "stderr",
     "output_type": "stream",
     "text": [
      "Setting default log level to \"WARN\".\n",
      "To adjust logging level use sc.setLogLevel(newLevel). For SparkR, use setLogLevel(newLevel).\n",
      "23/09/10 14:41:52 WARN NativeCodeLoader: Unable to load native-hadoop library for your platform... using builtin-java classes where applicable\n"
     ]
    }
   ],
   "source": [
    "from pyspark.sql import SparkSession\n",
    "\n",
    "spark = SparkSession.builder.appName('walkthrough').config(\"spark.driver.bindAddress\",\"localhost\").\\\n",
    "config(\"spark.ui.port\",\"4050\").getOrCreate()"
   ]
  },
  {
   "cell_type": "code",
   "execution_count": null,
   "metadata": {},
   "outputs": [],
   "source": []
  },
  {
   "cell_type": "markdown",
   "metadata": {},
   "source": [
    "## Study the Provided Dataset"
   ]
  },
  {
   "cell_type": "code",
   "execution_count": 2,
   "metadata": {},
   "outputs": [],
   "source": [
    "trial_results = spark.read.json('dataset.json', multiLine=True)"
   ]
  },
  {
   "cell_type": "code",
   "execution_count": 3,
   "metadata": {},
   "outputs": [
    {
     "name": "stdout",
     "output_type": "stream",
     "text": [
      "root\n",
      " |-- ageofparticipant: long (nullable = true)\n",
      " |-- clinician: struct (nullable = true)\n",
      " |    |-- branch: string (nullable = true)\n",
      " |    |-- name: string (nullable = true)\n",
      " |    |-- role: string (nullable = true)\n",
      " |-- drug_used: string (nullable = true)\n",
      " |-- experimentenddate: string (nullable = true)\n",
      " |-- experimentstartdate: string (nullable = true)\n",
      " |-- noofhourspassedatfirstreaction: long (nullable = true)\n",
      " |-- result: struct (nullable = true)\n",
      " |    |-- conclusion: string (nullable = true)\n",
      " |    |-- sideeffectsonparticipant: string (nullable = true)\n",
      "\n"
     ]
    }
   ],
   "source": [
    "# What does a schema look like?\n",
    "trial_results.printSchema()"
   ]
  },
  {
   "cell_type": "code",
   "execution_count": 4,
   "metadata": {},
   "outputs": [
    {
     "name": "stderr",
     "output_type": "stream",
     "text": [
      "                                                                                \r"
     ]
    },
    {
     "name": "stdout",
     "output_type": "stream",
     "text": [
      "+----------------+--------------------+---------+-----------------+-------------------+------------------------------+--------------------+\n",
      "|ageofparticipant|           clinician|drug_used|experimentenddate|experimentstartdate|noofhourspassedatfirstreaction|              result|\n",
      "+----------------+--------------------+---------+-----------------+-------------------+------------------------------+--------------------+\n",
      "|              15|{Quebec, Drake, n...|  Placebo|    1619827200000|      1617235200000|                            86|{No effect, light...|\n",
      "|              19|{Quebec, Said, do...| Naproxen|    1619827200000|      1617235200000|                            52|{BP normalized, l...|\n",
      "|              14|{Quebec, William,...| Naproxen|    1619827200000|      1617235200000|                            14|{Follow-up, heada...|\n",
      "|              16|{Quebec, Storey, ...| Naproxen|    1619827200000|      1617235200000|                             6| {null, light fever}|\n",
      "|              17|{Quebec, Said, nu...|  Placebo|    1619827200000|      1617235200000|                             8|   {null, headaches}|\n",
      "+----------------+--------------------+---------+-----------------+-------------------+------------------------------+--------------------+\n",
      "\n"
     ]
    }
   ],
   "source": [
    "# display the top rows\n",
    "\n",
    "spark.createDataFrame(trial_results.tail(5)).show()"
   ]
  },
  {
   "cell_type": "code",
   "execution_count": 5,
   "metadata": {},
   "outputs": [],
   "source": [
    "from pyspark.sql.functions import isnull, count, isnan, when, col, date_format, to_date"
   ]
  },
  {
   "cell_type": "markdown",
   "metadata": {},
   "source": []
  },
  {
   "cell_type": "markdown",
   "metadata": {},
   "source": [
    "## Split the Columns"
   ]
  },
  {
   "cell_type": "code",
   "execution_count": 6,
   "metadata": {},
   "outputs": [],
   "source": [
    "columns = ['ageofparticipant',\n",
    " 'clinician.branch',\n",
    " 'clinician.name',\n",
    " 'clinician.role',\n",
    " 'drug_used',\n",
    " 'experimentenddate',\n",
    " 'experimentstartdate',\n",
    " 'noofhourspassedatfirstreaction',\n",
    " 'result.conclusion',\n",
    " 'result.sideeffectsonparticipant'\n",
    "]"
   ]
  },
  {
   "cell_type": "code",
   "execution_count": null,
   "metadata": {},
   "outputs": [],
   "source": []
  },
  {
   "cell_type": "markdown",
   "metadata": {},
   "source": [
    "## Check for NULL values"
   ]
  },
  {
   "cell_type": "code",
   "execution_count": 7,
   "metadata": {},
   "outputs": [
    {
     "name": "stdout",
     "output_type": "stream",
     "text": [
      "+----------------+---------+---------+-----------------+-------------------+------------------------------+------+\n",
      "|ageofparticipant|clinician|drug_used|experimentenddate|experimentstartdate|noofhourspassedatfirstreaction|result|\n",
      "+----------------+---------+---------+-----------------+-------------------+------------------------------+------+\n",
      "|               0|        0|        0|                0|                  0|                            73|     0|\n",
      "+----------------+---------+---------+-----------------+-------------------+------------------------------+------+\n",
      "\n"
     ]
    }
   ],
   "source": [
    "null_columns = trial_results.select([count(when(col(c).isNull(), c)).alias(c) for c in trial_results.columns])\n",
    "null_columns.show()"
   ]
  },
  {
   "cell_type": "code",
   "execution_count": null,
   "metadata": {},
   "outputs": [],
   "source": []
  },
  {
   "cell_type": "markdown",
   "metadata": {},
   "source": [
    "# Cleaning"
   ]
  },
  {
   "cell_type": "code",
   "execution_count": 8,
   "metadata": {},
   "outputs": [],
   "source": [
    "# check the rows agaiin in flat format\n",
    "\n",
    "trial_results = trial_results.select([*columns])"
   ]
  },
  {
   "cell_type": "markdown",
   "metadata": {},
   "source": [
    "## Clean Column Names"
   ]
  },
  {
   "cell_type": "code",
   "execution_count": 9,
   "metadata": {},
   "outputs": [],
   "source": [
    "# pick out the columns\n",
    "\n",
    "columns = trial_results.columns\n"
   ]
  },
  {
   "cell_type": "markdown",
   "metadata": {},
   "source": [
    "### remove dot annotations from column names"
   ]
  },
  {
   "cell_type": "code",
   "execution_count": 10,
   "metadata": {},
   "outputs": [
    {
     "data": {
      "text/plain": [
       "['ageofparticipant',\n",
       " 'branch',\n",
       " 'name',\n",
       " 'role',\n",
       " 'drug_used',\n",
       " 'experimentenddate',\n",
       " 'experimentstartdate',\n",
       " 'noofhourspassedatfirstreaction',\n",
       " 'conclusion',\n",
       " 'sideeffectsonparticipant']"
      ]
     },
     "execution_count": 10,
     "metadata": {},
     "output_type": "execute_result"
    }
   ],
   "source": [
    "columns"
   ]
  },
  {
   "cell_type": "markdown",
   "metadata": {},
   "source": [
    "### rename the columns"
   ]
  },
  {
   "cell_type": "code",
   "execution_count": 11,
   "metadata": {},
   "outputs": [],
   "source": [
    "# following the provided description of the dataset\n",
    "\n",
    "new_column_names = {\n",
    "    'ageofparticipant': 'age_of_participant'\n",
    "    , 'branch': 'clinic_branch'\n",
    "    , 'role': 'assistants_role'\n",
    "    , 'experimentenddate': 'experiment_end_date'\n",
    "    , 'experimentstartdate': 'experiment_start_date'\n",
    "    , 'noofhourspassedatfirstreaction': 'no_of_hours_passed_at_first_reaction'\n",
    "    , 'conclusion': 'trial_conclusion'\n",
    "    , 'sideeffectsonparticipant': 'observed_side_effect'\n",
    "}\n",
    "\n",
    "trial_results = trial_results.withColumnsRenamed(new_column_names)"
   ]
  },
  {
   "cell_type": "code",
   "execution_count": 12,
   "metadata": {},
   "outputs": [
    {
     "name": "stdout",
     "output_type": "stream",
     "text": [
      "+------------------+-------------+-------+---------------+---------+-------------------+---------------------+------------------------------------+----------------+--------------------+\n",
      "|age_of_participant|clinic_branch|   name|assistants_role|drug_used|experiment_end_date|experiment_start_date|no_of_hours_passed_at_first_reaction|trial_conclusion|observed_side_effect|\n",
      "+------------------+-------------+-------+---------------+---------+-------------------+---------------------+------------------------------------+----------------+--------------------+\n",
      "|                19|      Ontario|   Saul|      therapist|  Placebo|      1619827200000|        1617235200000|                                  52|   BP normalized|      rashes on neck|\n",
      "|                14|      Ontario|   Saul|          nurse| Naproxen|      1619827200000|        1617235200000|                                  78|       Follow-up|                 N/A|\n",
      "|                17|      Ontario|   Saul|          nurse|  Placebo|      1619827200000|        1617235200000|                                  14|       Follow-up|                 N/A|\n",
      "|                18|      Ontario|   Will|          nurse| Naproxen|      1619827200000|        1617235200000|                                  14|   BP normalized|                 N/A|\n",
      "|                17|      Ontario|Patrick|         doctor| Naproxen|      1619827200000|        1617235200000|                                  22|       No effect|      rashes on neck|\n",
      "+------------------+-------------+-------+---------------+---------+-------------------+---------------------+------------------------------------+----------------+--------------------+\n",
      "only showing top 5 rows\n",
      "\n"
     ]
    }
   ],
   "source": [
    "trial_results.show(5)"
   ]
  },
  {
   "cell_type": "code",
   "execution_count": null,
   "metadata": {},
   "outputs": [],
   "source": []
  },
  {
   "cell_type": "markdown",
   "metadata": {},
   "source": [
    "## Address Missing Values\n",
    "\n",
    "only columns \"assistants_role\" and \"trial_conclusion\" are addressed<br>\n",
    "no_of_hours_passed_at_first_reaction is ignored to avoid confusing 0 with the actual number of hours"
   ]
  },
  {
   "cell_type": "code",
   "execution_count": 13,
   "metadata": {},
   "outputs": [],
   "source": [
    "trial_results = trial_results.na.fill({'assistants_role': 'N/A', 'trial_conclusion': 'N/A'})"
   ]
  },
  {
   "cell_type": "code",
   "execution_count": 14,
   "metadata": {},
   "outputs": [
    {
     "name": "stdout",
     "output_type": "stream",
     "text": [
      "+------------------+-------------+----+---------------+---------+-------------------+---------------------+------------------------------------+----------------+--------------------+\n",
      "|age_of_participant|clinic_branch|name|assistants_role|drug_used|experiment_end_date|experiment_start_date|no_of_hours_passed_at_first_reaction|trial_conclusion|observed_side_effect|\n",
      "+------------------+-------------+----+---------------+---------+-------------------+---------------------+------------------------------------+----------------+--------------------+\n",
      "|                 0|            0|   0|              0|        0|                  0|                    0|                                  73|               0|                   0|\n",
      "+------------------+-------------+----+---------------+---------+-------------------+---------------------+------------------------------------+----------------+--------------------+\n",
      "\n"
     ]
    }
   ],
   "source": [
    "trial_results.select([count(when(col(a).isNull() | isnan(col(a)) | col(a).isin('', 'null', None), a)).alias(a) for a in trial_results.columns]).show()"
   ]
  },
  {
   "cell_type": "code",
   "execution_count": null,
   "metadata": {},
   "outputs": [],
   "source": []
  },
  {
   "cell_type": "markdown",
   "metadata": {},
   "source": [
    "# Transformation"
   ]
  },
  {
   "cell_type": "code",
   "execution_count": null,
   "metadata": {},
   "outputs": [],
   "source": []
  },
  {
   "cell_type": "markdown",
   "metadata": {},
   "source": [
    "## Address Datatypes"
   ]
  },
  {
   "cell_type": "code",
   "execution_count": 15,
   "metadata": {},
   "outputs": [
    {
     "data": {
      "text/plain": [
       "[('age_of_participant', 'bigint'),\n",
       " ('clinic_branch', 'string'),\n",
       " ('name', 'string'),\n",
       " ('assistants_role', 'string'),\n",
       " ('drug_used', 'string'),\n",
       " ('experiment_end_date', 'string'),\n",
       " ('experiment_start_date', 'string'),\n",
       " ('no_of_hours_passed_at_first_reaction', 'bigint'),\n",
       " ('trial_conclusion', 'string'),\n",
       " ('observed_side_effect', 'string')]"
      ]
     },
     "execution_count": 15,
     "metadata": {},
     "output_type": "execute_result"
    }
   ],
   "source": [
    "trial_results.dtypes"
   ]
  },
  {
   "cell_type": "code",
   "execution_count": 16,
   "metadata": {},
   "outputs": [
    {
     "name": "stderr",
     "output_type": "stream",
     "text": [
      "23/09/10 14:42:03 WARN package: Truncated the string representation of a plan since it was too large. This behavior can be adjusted by setting 'spark.sql.debug.maxToStringFields'.\n"
     ]
    },
    {
     "name": "stdout",
     "output_type": "stream",
     "text": [
      "+-------+------------------+-------------+-------+---------------+---------+--------------------+---------------------+------------------------------------+----------------+--------------------+\n",
      "|summary|age_of_participant|clinic_branch|   name|assistants_role|drug_used| experiment_end_date|experiment_start_date|no_of_hours_passed_at_first_reaction|trial_conclusion|observed_side_effect|\n",
      "+-------+------------------+-------------+-------+---------------+---------+--------------------+---------------------+------------------------------------+----------------+--------------------+\n",
      "|  count|              3586|         3586|   3586|           3586|     3586|                3586|                 3586|                                3513|            3586|                3586|\n",
      "|   mean|17.507250418293363|         null|   null|           null|     null|1.618381578137200...| 1.615813671834913...|                   44.89097637346997|            null|                null|\n",
      "| stddev|2.3066401927555233|         null|   null|           null|     null|2.3250351904618263E9| 2.2862846039555306E9|                  24.540325490035848|            null|                null|\n",
      "|    min|                14|      Alberta| Colins|            N/A| Naproxen|       1614643200000|        1612137600000|                                   3|   BP normalized|                 N/A|\n",
      "|    max|                21|       Quebec|Windsor|      therapist|  Placebo|       1619827200000|        1617235200000|                                  87|       No effect|      rashes on neck|\n",
      "+-------+------------------+-------------+-------+---------------+---------+--------------------+---------------------+------------------------------------+----------------+--------------------+\n",
      "\n"
     ]
    }
   ],
   "source": [
    "trial_results.describe().show()"
   ]
  },
  {
   "cell_type": "code",
   "execution_count": 17,
   "metadata": {},
   "outputs": [],
   "source": [
    "import pyspark.sql.types  as dtype\n",
    "import pyspark.sql.functions as fn"
   ]
  },
  {
   "cell_type": "code",
   "execution_count": null,
   "metadata": {},
   "outputs": [],
   "source": []
  },
  {
   "cell_type": "code",
   "execution_count": 18,
   "metadata": {},
   "outputs": [],
   "source": [
    "# change the format from UNIX to datetime, for the start and end dates.\n",
    "# change the datatypes from string to PySpark's timestamp.\n",
    "# we created a new column as the old column experiment_start_date\n",
    "# we converted to longtype to do the division cos it was string before, long type cos it holds more digit than regular integer\n",
    "# function applied on start date and end date\n",
    "# Using the same name in withcolumns will automatically update the column values to the converted values, another column name will add a new column\n",
    "trial_results = trial_results.withColumn('experiment_start_date', fn.from_unixtime(col('experiment_start_date').cast(dtype.LongType())/1000, 'yyyy-MM-dd HH:mm:ss.SSSS'))\\\n",
    "    .withColumn('experiment_start_date', col('experiment_start_date').cast(dtype.TimestampType()))\\\n",
    "        .withColumn('experiment_end_date', fn.from_unixtime(col('experiment_end_date').cast(dtype.LongType())/1000, 'yyyy-MM-dd HH:mm:ss.SSSS'))\\\n",
    "            .withColumn('experiment_end_date', col('experiment_end_date').cast(dtype.TimestampType()))"
   ]
  },
  {
   "cell_type": "code",
   "execution_count": null,
   "metadata": {},
   "outputs": [],
   "source": []
  },
  {
   "cell_type": "code",
   "execution_count": 19,
   "metadata": {},
   "outputs": [
    {
     "name": "stdout",
     "output_type": "stream",
     "text": [
      "+------------------+-------------+-------+---------------+---------+-------------------+---------------------+------------------------------------+----------------+--------------------+\n",
      "|age_of_participant|clinic_branch|   name|assistants_role|drug_used|experiment_end_date|experiment_start_date|no_of_hours_passed_at_first_reaction|trial_conclusion|observed_side_effect|\n",
      "+------------------+-------------+-------+---------------+---------+-------------------+---------------------+------------------------------------+----------------+--------------------+\n",
      "|                19|      Ontario|   Saul|      therapist|  Placebo|2021-05-01 03:00:00|  2021-04-01 03:00:00|                                  52|   BP normalized|      rashes on neck|\n",
      "|                14|      Ontario|   Saul|          nurse| Naproxen|2021-05-01 03:00:00|  2021-04-01 03:00:00|                                  78|       Follow-up|                 N/A|\n",
      "|                17|      Ontario|   Saul|          nurse|  Placebo|2021-05-01 03:00:00|  2021-04-01 03:00:00|                                  14|       Follow-up|                 N/A|\n",
      "|                18|      Ontario|   Will|          nurse| Naproxen|2021-05-01 03:00:00|  2021-04-01 03:00:00|                                  14|   BP normalized|                 N/A|\n",
      "|                17|      Ontario|Patrick|         doctor| Naproxen|2021-05-01 03:00:00|  2021-04-01 03:00:00|                                  22|       No effect|      rashes on neck|\n",
      "|                17|      Ontario|Patrick|         doctor| Naproxen|2021-05-01 03:00:00|  2021-04-01 03:00:00|                                   4|       Follow-up|           headaches|\n",
      "|                20|      Ontario|   Saul|         doctor| Naproxen|2021-05-01 03:00:00|  2021-04-01 03:00:00|                                  85|       No effect|           headaches|\n",
      "|                15|      Ontario|   Saul|         doctor|  Placebo|2021-05-01 03:00:00|  2021-04-01 03:00:00|                                  49|       No effect|      rashes on neck|\n",
      "|                14|      Ontario|   Will|      therapist|  Placebo|2021-05-01 03:00:00|  2021-04-01 03:00:00|                                  84|       Follow-up|           headaches|\n",
      "|                20|      Ontario| Colins|          nurse|  Placebo|2021-05-01 03:00:00|  2021-04-01 03:00:00|                                  66|       Follow-up|       arms and feet|\n",
      "+------------------+-------------+-------+---------------+---------+-------------------+---------------------+------------------------------------+----------------+--------------------+\n",
      "only showing top 10 rows\n",
      "\n"
     ]
    }
   ],
   "source": [
    "trial_results.show(10)"
   ]
  },
  {
   "cell_type": "code",
   "execution_count": null,
   "metadata": {},
   "outputs": [],
   "source": []
  },
  {
   "cell_type": "code",
   "execution_count": 20,
   "metadata": {},
   "outputs": [
    {
     "data": {
      "text/plain": [
       "[('age_of_participant', 'bigint'),\n",
       " ('clinic_branch', 'string'),\n",
       " ('name', 'string'),\n",
       " ('assistants_role', 'string'),\n",
       " ('drug_used', 'string'),\n",
       " ('experiment_end_date', 'timestamp'),\n",
       " ('experiment_start_date', 'timestamp'),\n",
       " ('no_of_hours_passed_at_first_reaction', 'bigint'),\n",
       " ('trial_conclusion', 'string'),\n",
       " ('observed_side_effect', 'string')]"
      ]
     },
     "execution_count": 20,
     "metadata": {},
     "output_type": "execute_result"
    }
   ],
   "source": [
    "trial_results.dtypes"
   ]
  },
  {
   "cell_type": "code",
   "execution_count": null,
   "metadata": {},
   "outputs": [],
   "source": []
  },
  {
   "cell_type": "markdown",
   "metadata": {},
   "source": [
    "# Load the Dataset - For the Clinician"
   ]
  },
  {
   "cell_type": "code",
   "execution_count": 21,
   "metadata": {},
   "outputs": [],
   "source": [
    "# reorder the columns\n",
    "\n",
    "columns = ['experiment_start_date', 'experiment_end_date', 'clinic_branch', 'drug_used', 'name', 'assistants_role', 'age_of_participant', 'no_of_hours_passed_at_first_reaction', 'trial_conclusion', 'observed_side_effect']"
   ]
  },
  {
   "cell_type": "code",
   "execution_count": 22,
   "metadata": {},
   "outputs": [],
   "source": [
    "# Save the results \n"
   ]
  },
  {
   "cell_type": "code",
   "execution_count": 23,
   "metadata": {},
   "outputs": [],
   "source": [
    "\n",
    "# partition by drug type for easy accessibility\n",
    "# order by conclusion and sideeffect for easy readability/analysis\n",
    "trial_results.select(columns).sort('trial_conclusion', 'observed_side_effect').write.option(\"header\", True)\\\n",
    "    .partitionBy(['drug_used'])\\\n",
    "    .mode(\"overwrite\")\\\n",
    "    .csv(\"clinicians_dataset\")"
   ]
  },
  {
   "cell_type": "code",
   "execution_count": null,
   "metadata": {},
   "outputs": [],
   "source": []
  },
  {
   "cell_type": "code",
   "execution_count": null,
   "metadata": {},
   "outputs": [],
   "source": []
  },
  {
   "cell_type": "code",
   "execution_count": null,
   "metadata": {},
   "outputs": [],
   "source": []
  },
  {
   "cell_type": "code",
   "execution_count": null,
   "metadata": {},
   "outputs": [],
   "source": []
  },
  {
   "cell_type": "markdown",
   "metadata": {},
   "source": [
    "# Load the Dataset - For the ML Engineers"
   ]
  },
  {
   "cell_type": "markdown",
   "metadata": {},
   "source": []
  },
  {
   "cell_type": "markdown",
   "metadata": {},
   "source": [
    "## Derive Month from TimeStamp"
   ]
  },
  {
   "cell_type": "markdown",
   "metadata": {},
   "source": []
  },
  {
   "cell_type": "code",
   "execution_count": 24,
   "metadata": {},
   "outputs": [],
   "source": [
    "ml_trial_results = trial_results.withColumn('exp_start_month', fn.month(fn.col('experiment_start_date')))\\\n",
    "    .withColumn('exp_start_year', fn.year(col('experiment_start_date'))).sort('experiment_start_date')"
   ]
  },
  {
   "cell_type": "markdown",
   "metadata": {},
   "source": [
    "## Save Results"
   ]
  },
  {
   "cell_type": "code",
   "execution_count": 25,
   "metadata": {},
   "outputs": [
    {
     "name": "stderr",
     "output_type": "stream",
     "text": [
      "                                                                                \r"
     ]
    }
   ],
   "source": [
    "ml_trial_results.write.partitionBy(['exp_start_month', 'drug_used']).mode('overwrite').parquet('ml_dataset')"
   ]
  },
  {
   "cell_type": "code",
   "execution_count": null,
   "metadata": {},
   "outputs": [],
   "source": []
  },
  {
   "cell_type": "code",
   "execution_count": null,
   "metadata": {},
   "outputs": [],
   "source": []
  },
  {
   "cell_type": "code",
   "execution_count": 26,
   "metadata": {},
   "outputs": [
    {
     "name": "stdout",
     "output_type": "stream",
     "text": [
      "+---------------------+--------------------+-------------+-------+---------------+------------------+------------------------------------+----------------+--------------------+\n",
      "|experiment_start_date| experiment_end_date|clinic_branch|   name|assistants_role|age_of_participant|no_of_hours_passed_at_first_reaction|trial_conclusion|observed_side_effect|\n",
      "+---------------------+--------------------+-------------+-------+---------------+------------------+------------------------------------+----------------+--------------------+\n",
      "| 2021-04-01T03:00:...|2021-05-01T03:00:...|      Ontario|   Will|          nurse|                18|                                  14|   BP normalized|                 N/A|\n",
      "| 2021-04-01T03:00:...|2021-05-01T03:00:...|      Ontario|   Will|      therapist|                18|                                  10|   BP normalized|                 N/A|\n",
      "| 2021-04-01T03:00:...|2021-05-01T03:00:...|      Ontario|   Will|      therapist|                14|                                  28|   BP normalized|                 N/A|\n",
      "| 2021-04-01T03:00:...|2021-05-01T03:00:...|      Ontario|Patrick|          nurse|                15|                                  86|   BP normalized|                 N/A|\n",
      "| 2021-04-01T03:00:...|2021-05-01T03:00:...|      Ontario|   Will|         doctor|                18|                                  11|   BP normalized|                 N/A|\n",
      "| 2021-04-01T03:00:...|2021-05-01T03:00:...|      Ontario|Patrick|         doctor|                20|                                  32|   BP normalized|                 N/A|\n",
      "| 2021-04-01T03:00:...|2021-05-01T03:00:...|      Ontario|Patrick|      therapist|                14|                                  52|   BP normalized|                 N/A|\n",
      "| 2021-04-01T03:00:...|2021-05-01T03:00:...|      Ontario|Patrick|         doctor|                19|                                  15|   BP normalized|                 N/A|\n",
      "| 2021-04-01T03:00:...|2021-05-01T03:00:...|      Ontario| Colins|          nurse|                18|                                  48|   BP normalized|                 N/A|\n",
      "| 2021-04-01T03:00:...|2021-05-01T03:00:...|      Ontario|Patrick|         doctor|                17|                                  68|   BP normalized|                 N/A|\n",
      "+---------------------+--------------------+-------------+-------+---------------+------------------+------------------------------------+----------------+--------------------+\n",
      "only showing top 10 rows\n",
      "\n"
     ]
    }
   ],
   "source": [
    "# read files after saving\n",
    "\n",
    "\n",
    "spark.read.option('header', True).format(\"csv\").load(\"clinicians_dataset/drug_used=Naproxen/*.csv\").show(10)"
   ]
  },
  {
   "cell_type": "code",
   "execution_count": 27,
   "metadata": {},
   "outputs": [
    {
     "name": "stdout",
     "output_type": "stream",
     "text": [
      "+------------------+-------------+-------+---------------+-------------------+---------------------+------------------------------------+----------------+--------------------+--------------+\n",
      "|age_of_participant|clinic_branch|   name|assistants_role|experiment_end_date|experiment_start_date|no_of_hours_passed_at_first_reaction|trial_conclusion|observed_side_effect|exp_start_year|\n",
      "+------------------+-------------+-------+---------------+-------------------+---------------------+------------------------------------+----------------+--------------------+--------------+\n",
      "|                20|      Alberta|Johnson|          nurse|2021-03-02 02:00:00|  2021-02-01 02:00:00|                                  45|       Follow-up|      rashes on neck|          2021|\n",
      "|                14|      Alberta|Johnson|      therapist|2021-03-02 02:00:00|  2021-02-01 02:00:00|                                  31|       No effect|       arms and feet|          2021|\n",
      "|                16|      Alberta| Greene|      therapist|2021-03-02 02:00:00|  2021-02-01 02:00:00|                                  75|       No effect|           headaches|          2021|\n",
      "|                21|      Alberta|Johnson|         doctor|2021-03-02 02:00:00|  2021-02-01 02:00:00|                                   3|       No effect|      rashes on neck|          2021|\n",
      "|                20|      Alberta|Windsor|          nurse|2021-03-02 02:00:00|  2021-02-01 02:00:00|                                  13|       No effect|      rashes on neck|          2021|\n",
      "|                20|      Alberta| Greene|          nurse|2021-03-02 02:00:00|  2021-02-01 02:00:00|                                  12|       No effect|       arms and feet|          2021|\n",
      "|                15|      Alberta|Windsor|         doctor|2021-03-02 02:00:00|  2021-02-01 02:00:00|                                   6|   BP normalized|           headaches|          2021|\n",
      "|                19|      Alberta| Greene|          nurse|2021-03-02 02:00:00|  2021-02-01 02:00:00|                                  16|       No effect|      rashes on neck|          2021|\n",
      "|                20|      Alberta| Greene|            N/A|2021-03-02 02:00:00|  2021-02-01 02:00:00|                                  46|   BP normalized|       arms and feet|          2021|\n",
      "|                18|      Alberta|Windsor|         doctor|2021-03-02 02:00:00|  2021-02-01 02:00:00|                                  19|   BP normalized|         light fever|          2021|\n",
      "+------------------+-------------+-------+---------------+-------------------+---------------------+------------------------------------+----------------+--------------------+--------------+\n",
      "only showing top 10 rows\n",
      "\n"
     ]
    },
    {
     "name": "stderr",
     "output_type": "stream",
     "text": [
      "23/09/10 14:42:07 WARN GarbageCollectionMetrics: To enable non-built-in garbage collector(s) List(G1 Concurrent GC), users should configure it(them) to spark.eventLog.gcMetrics.youngGenerationGarbageCollectors or spark.eventLog.gcMetrics.oldGenerationGarbageCollectors\n"
     ]
    }
   ],
   "source": [
    "spark.read.option('header', True).format(\"parquet\").load(\"ml_dataset/exp_start_month=2/drug_used=Naproxen/*.parquet\").show(10)"
   ]
  },
  {
   "cell_type": "code",
   "execution_count": null,
   "metadata": {},
   "outputs": [],
   "source": []
  }
 ],
 "metadata": {
  "kernelspec": {
   "display_name": "Python 3",
   "language": "python",
   "name": "python3"
  },
  "language_info": {
   "codemirror_mode": {
    "name": "ipython",
    "version": 3
   },
   "file_extension": ".py",
   "mimetype": "text/x-python",
   "name": "python",
   "nbconvert_exporter": "python",
   "pygments_lexer": "ipython3",
   "version": "3.8.0"
  },
  "orig_nbformat": 4
 },
 "nbformat": 4,
 "nbformat_minor": 2
}
